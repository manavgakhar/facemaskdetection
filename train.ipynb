{
 "cells": [
  {
   "cell_type": "code",
   "execution_count": 1,
   "metadata": {},
   "outputs": [],
   "source": [
    "from tensorflow.keras.preprocessing.image import ImageDataGenerator\n",
    "from tensorflow.keras.applications import MobileNetV2\n",
    "from tensorflow.keras.layers import AveragePooling2D\n",
    "from tensorflow.keras.layers import Dropout\n",
    "from tensorflow.keras.layers import Flatten\n",
    "from tensorflow.keras.layers import Dense\n",
    "from tensorflow.keras.layers import Input\n",
    "from tensorflow.keras.models import Model\n",
    "from tensorflow.keras.optimizers import Adam\n",
    "from tensorflow.keras.applications.mobilenet_v2 import preprocess_input\n",
    "from tensorflow.keras.preprocessing.image import img_to_array\n",
    "from tensorflow.keras.preprocessing.image import load_img\n",
    "from tensorflow.keras.utils import to_categorical\n",
    "from sklearn.preprocessing import LabelBinarizer\n",
    "from sklearn.model_selection import train_test_split\n",
    "from sklearn.metrics import classification_report\n",
    "from imutils import paths\n",
    "import matplotlib.pyplot as plt\n",
    "import numpy as np\n",
    "import argparse\n",
    "import os"
   ]
  },
  {
   "cell_type": "markdown",
   "metadata": {},
   "source": [
    "## Initialising params"
   ]
  },
  {
   "cell_type": "code",
   "execution_count": 12,
   "metadata": {},
   "outputs": [],
   "source": [
    "lr_ = 1e-4\n",
    "epochs_ = 20\n",
    "batchSize = 32"
   ]
  },
  {
   "cell_type": "markdown",
   "metadata": {},
   "source": [
    "## Loading Image"
   ]
  },
  {
   "cell_type": "code",
   "execution_count": 4,
   "metadata": {},
   "outputs": [],
   "source": [
    "imagePaths = list(paths.list_images('data'))\n",
    "data = []\n",
    "labels = []\n",
    "#go over image paths\n",
    "for imagePath in imagePaths:\n",
    "    #labels\n",
    "    label = imagePath.split(os.path.sep)[-2]\n",
    "    #loading img and processing \n",
    "    image = load_img(imagePath, target_size=(224, 224))\n",
    "    image = img_to_array(image)\n",
    "    image = preprocess_input(image)\n",
    "    #appending stuff\n",
    "    data.append(image)\n",
    "    labels.append(label)\n",
    "# np arrays bro\n",
    "data = np.array(data, dtype=\"float32\")\n",
    "labels = np.array(labels)"
   ]
  },
  {
   "cell_type": "code",
   "execution_count": 5,
   "metadata": {
    "scrolled": true
   },
   "outputs": [
    {
     "data": {
      "text/plain": [
       "array([[[[-0.94509804, -0.9764706 , -0.85882354],\n",
       "         [-0.94509804, -0.9764706 , -0.85882354],\n",
       "         [-0.94509804, -0.9764706 , -0.85882354],\n",
       "         ...,\n",
       "         [-0.8509804 , -0.90588236, -0.78039217],\n",
       "         [-0.8509804 , -0.90588236, -0.78039217],\n",
       "         [-0.84313726, -0.8980392 , -0.77254903]],\n",
       "\n",
       "        [[-0.9137255 , -0.94509804, -0.827451  ],\n",
       "         [-0.9137255 , -0.94509804, -0.827451  ],\n",
       "         [-0.9137255 , -0.94509804, -0.827451  ],\n",
       "         ...,\n",
       "         [-0.7647059 , -0.79607844, -0.6784314 ],\n",
       "         [-0.7647059 , -0.79607844, -0.6784314 ],\n",
       "         [-0.75686276, -0.7882353 , -0.67058825]],\n",
       "\n",
       "        [[-0.92156863, -0.9607843 , -0.8039216 ],\n",
       "         [-0.92156863, -0.9607843 , -0.8039216 ],\n",
       "         [-0.92156863, -0.9607843 , -0.8039216 ],\n",
       "         ...,\n",
       "         [-0.88235295, -0.8980392 , -0.7882353 ],\n",
       "         [-0.8666667 , -0.88235295, -0.77254903],\n",
       "         [-0.85882354, -0.8745098 , -0.7647059 ]],\n",
       "\n",
       "        ...,\n",
       "\n",
       "        [[ 0.3803922 , -0.9607843 , -0.36470586],\n",
       "         [ 0.38823533, -0.9607843 , -0.3960784 ],\n",
       "         [ 0.3803922 , -0.9607843 , -0.42745095],\n",
       "         ...,\n",
       "         [-1.        , -1.        , -1.        ],\n",
       "         [-1.        , -1.        , -1.        ],\n",
       "         [-1.        , -1.        , -1.        ]],\n",
       "\n",
       "        [[ 0.2941177 , -0.9529412 , -0.42745095],\n",
       "         [ 0.27058828, -0.9764706 , -0.47450978],\n",
       "         [ 0.24705887, -0.96862745, -0.5137255 ],\n",
       "         ...,\n",
       "         [-1.        , -1.        , -1.        ],\n",
       "         [-1.        , -1.        , -1.        ],\n",
       "         [-1.        , -1.        , -1.        ]],\n",
       "\n",
       "        [[ 0.254902  , -0.94509804, -0.44313723],\n",
       "         [ 0.22352946, -0.96862745, -0.5058824 ],\n",
       "         [ 0.20000005, -0.96862745, -0.5372549 ],\n",
       "         ...,\n",
       "         [-1.        , -1.        , -1.        ],\n",
       "         [-1.        , -1.        , -1.        ],\n",
       "         [-1.        , -1.        , -1.        ]]],\n",
       "\n",
       "\n",
       "       [[[ 0.827451  ,  0.7176471 ,  0.36470592],\n",
       "         [ 0.8117647 ,  0.7019608 ,  0.34901965],\n",
       "         [ 0.8117647 ,  0.7019608 ,  0.34901965],\n",
       "         ...,\n",
       "         [ 0.47450984,  0.10588241, -0.09803921],\n",
       "         [ 0.47450984,  0.10588241, -0.09803921],\n",
       "         [ 0.49803925,  0.12941182, -0.0745098 ]],\n",
       "\n",
       "        [[ 0.827451  ,  0.7176471 ,  0.36470592],\n",
       "         [ 0.81960785,  0.70980394,  0.35686278],\n",
       "         [ 0.81960785,  0.70980394,  0.35686278],\n",
       "         ...,\n",
       "         [ 0.47450984,  0.10588241, -0.09803921],\n",
       "         [ 0.47450984,  0.10588241, -0.09803921],\n",
       "         [ 0.4666667 ,  0.09803927, -0.10588235]],\n",
       "\n",
       "        [[ 0.81960785,  0.70980394,  0.35686278],\n",
       "         [ 0.8117647 ,  0.7019608 ,  0.34901965],\n",
       "         [ 0.8117647 ,  0.7019608 ,  0.34901965],\n",
       "         ...,\n",
       "         [ 0.5137255 ,  0.15294123, -0.05098039],\n",
       "         [ 0.5137255 ,  0.15294123, -0.05098039],\n",
       "         [ 0.47450984,  0.10588241, -0.09803921]],\n",
       "\n",
       "        ...,\n",
       "\n",
       "        [[-0.4823529 , -0.92156863, -0.81960785],\n",
       "         [-0.36470586, -0.8509804 , -0.73333335],\n",
       "         [-0.36470586, -0.8509804 , -0.73333335],\n",
       "         ...,\n",
       "         [-0.7647059 , -0.8666667 , -0.9137255 ],\n",
       "         [-0.7647059 , -0.8666667 , -0.9137255 ],\n",
       "         [-0.7647059 , -0.8666667 , -0.9137255 ]],\n",
       "\n",
       "        [[-0.47450978, -0.9137255 , -0.8117647 ],\n",
       "         [-0.34117645, -0.84313726, -0.7176471 ],\n",
       "         [-0.34117645, -0.84313726, -0.7176471 ],\n",
       "         ...,\n",
       "         [-0.7411765 , -0.84313726, -0.8901961 ],\n",
       "         [-0.7411765 , -0.84313726, -0.8901961 ],\n",
       "         [-0.7411765 , -0.84313726, -0.8901961 ]],\n",
       "\n",
       "        [[-0.46666664, -0.8901961 , -0.7882353 ],\n",
       "         [-0.3333333 , -0.85882354, -0.7254902 ],\n",
       "         [-0.3333333 , -0.85882354, -0.7254902 ],\n",
       "         ...,\n",
       "         [-0.7254902 , -0.827451  , -0.8901961 ],\n",
       "         [-0.7254902 , -0.827451  , -0.8901961 ],\n",
       "         [-0.73333335, -0.8352941 , -0.8980392 ]]],\n",
       "\n",
       "\n",
       "       [[[ 0.38823533,  0.38823533,  0.4039216 ],\n",
       "         [ 0.4039216 ,  0.4039216 ,  0.41960788],\n",
       "         [ 0.3803922 ,  0.3803922 ,  0.39607847],\n",
       "         ...,\n",
       "         [ 0.22352946,  0.254902  ,  0.26274514],\n",
       "         [ 0.10588241,  0.13725495,  0.14509809],\n",
       "         [ 0.09019613,  0.12156868,  0.12941182]],\n",
       "\n",
       "        [[ 0.41176474,  0.41176474,  0.427451  ],\n",
       "         [ 0.41176474,  0.41176474,  0.427451  ],\n",
       "         [ 0.36470592,  0.36470592,  0.3803922 ],\n",
       "         ...,\n",
       "         [ 0.18431377,  0.21568632,  0.22352946],\n",
       "         [ 0.02745104,  0.05882359,  0.06666672],\n",
       "         [ 0.02745104,  0.05882359,  0.06666672]],\n",
       "\n",
       "        [[ 0.41176474,  0.41176474,  0.427451  ],\n",
       "         [ 0.39607847,  0.39607847,  0.41176474],\n",
       "         [ 0.36470592,  0.36470592,  0.3803922 ],\n",
       "         ...,\n",
       "         [ 0.12941182,  0.16078436,  0.1686275 ],\n",
       "         [ 0.0196079 ,  0.05098045,  0.05882359],\n",
       "         [ 0.02745104,  0.05882359,  0.06666672]],\n",
       "\n",
       "        ...,\n",
       "\n",
       "        [[ 0.56078434,  0.56078434,  0.56078434],\n",
       "         [ 0.5686275 ,  0.5686275 ,  0.5686275 ],\n",
       "         [ 0.5764706 ,  0.5764706 ,  0.5764706 ],\n",
       "         ...,\n",
       "         [ 0.52156866,  0.01176476,  0.26274514],\n",
       "         [ 0.45098042,  0.03529418,  0.23921573],\n",
       "         [ 0.5372549 ,  0.12156868,  0.32549024]],\n",
       "\n",
       "        [[ 0.5294118 ,  0.5294118 ,  0.5294118 ],\n",
       "         [ 0.5372549 ,  0.5372549 ,  0.5372549 ],\n",
       "         [ 0.54509807,  0.54509807,  0.54509807],\n",
       "         ...,\n",
       "         [ 0.6392157 ,  0.16078436,  0.4039216 ],\n",
       "         [ 0.35686278, -0.01960784,  0.1686275 ],\n",
       "         [ 0.30980396, -0.06666666,  0.12156868]],\n",
       "\n",
       "        [[ 0.5058824 ,  0.5058824 ,  0.5058824 ],\n",
       "         [ 0.5058824 ,  0.5058824 ,  0.5058824 ],\n",
       "         [ 0.52156866,  0.52156866,  0.52156866],\n",
       "         ...,\n",
       "         [ 0.62352943,  0.16078436,  0.41176474],\n",
       "         [ 0.41176474,  0.05882359,  0.23921573],\n",
       "         [ 0.26274514, -0.09019607,  0.09019613]]],\n",
       "\n",
       "\n",
       "       ...,\n",
       "\n",
       "\n",
       "       [[[ 1.        ,  0.99215686,  0.9764706 ],\n",
       "         [ 1.        ,  0.99215686,  0.9764706 ],\n",
       "         [ 1.        ,  0.99215686,  0.9764706 ],\n",
       "         ...,\n",
       "         [ 1.        ,  0.99215686,  0.9764706 ],\n",
       "         [ 1.        ,  0.99215686,  0.9764706 ],\n",
       "         [ 1.        ,  1.        ,  0.9843137 ]],\n",
       "\n",
       "        [[ 1.        ,  0.99215686,  0.9843137 ],\n",
       "         [ 1.        ,  1.        ,  0.9843137 ],\n",
       "         [ 1.        ,  1.        ,  0.9843137 ],\n",
       "         ...,\n",
       "         [ 1.        ,  0.99215686,  0.9764706 ],\n",
       "         [ 1.        ,  1.        ,  0.9843137 ],\n",
       "         [ 1.        ,  0.99215686,  0.9764706 ]],\n",
       "\n",
       "        [[ 1.        ,  1.        ,  0.9843137 ],\n",
       "         [ 1.        ,  0.99215686,  0.9764706 ],\n",
       "         [ 1.        ,  1.        ,  0.9843137 ],\n",
       "         ...,\n",
       "         [ 1.        ,  0.99215686,  0.9764706 ],\n",
       "         [ 1.        ,  0.99215686,  0.9764706 ],\n",
       "         [ 1.        ,  0.99215686,  0.9764706 ]],\n",
       "\n",
       "        ...,\n",
       "\n",
       "        [[-0.0745098 , -0.5372549 , -0.3960784 ],\n",
       "         [-0.06666666, -0.5294118 , -0.38823527],\n",
       "         [-0.16862744, -0.58431375, -0.44313723],\n",
       "         ...,\n",
       "         [ 0.12941182, -0.4352941 , -0.27843136],\n",
       "         [-0.02745098, -0.6       , -0.44313723],\n",
       "         [-0.04313725, -0.58431375, -0.4352941 ]],\n",
       "\n",
       "        [[-0.0745098 , -0.5529412 , -0.41176468],\n",
       "         [-0.1607843 , -0.58431375, -0.4588235 ],\n",
       "         [-0.17647058, -0.6       , -0.47450978],\n",
       "         ...,\n",
       "         [-0.11372548, -0.64705884, -0.4823529 ],\n",
       "         [-0.05098039, -0.62352943, -0.47450978],\n",
       "         [-0.00392157, -0.54509807, -0.3960784 ]],\n",
       "\n",
       "        [[-0.08235294, -0.56078434, -0.41960782],\n",
       "         [-0.19215685, -0.6156863 , -0.49019605],\n",
       "         [-0.23137254, -0.654902  , -0.5294118 ],\n",
       "         ...,\n",
       "         [ 0.05098045, -0.5058824 , -0.36470586],\n",
       "         [-0.01960784, -0.58431375, -0.42745095],\n",
       "         [-0.01960784, -0.5921569 , -0.4352941 ]]],\n",
       "\n",
       "\n",
       "       [[[ 1.        ,  1.        ,  0.9843137 ],\n",
       "         [ 1.        ,  1.        ,  0.9843137 ],\n",
       "         [ 1.        ,  1.        ,  0.9843137 ],\n",
       "         ...,\n",
       "         [ 0.654902  ,  0.77254903,  0.79607844],\n",
       "         [ 0.654902  ,  0.78039217,  0.78039217],\n",
       "         [ 0.67058825,  0.78039217,  0.7882353 ]],\n",
       "\n",
       "        [[ 1.        ,  1.        ,  0.9843137 ],\n",
       "         [ 1.        ,  1.        ,  0.9843137 ],\n",
       "         [ 1.        ,  1.        ,  0.9843137 ],\n",
       "         ...,\n",
       "         [ 0.6627451 ,  0.77254903,  0.78039217],\n",
       "         [ 0.6784314 ,  0.7882353 ,  0.79607844],\n",
       "         [ 0.6627451 ,  0.77254903,  0.78039217]],\n",
       "\n",
       "        [[ 1.        ,  1.        ,  0.9843137 ],\n",
       "         [ 1.        ,  1.        ,  0.9843137 ],\n",
       "         [ 1.        ,  1.        ,  0.9843137 ],\n",
       "         ...,\n",
       "         [ 0.6627451 ,  0.77254903,  0.78039217],\n",
       "         [ 0.6627451 ,  0.77254903,  0.78039217],\n",
       "         [ 0.6627451 ,  0.77254903,  0.78039217]],\n",
       "\n",
       "        ...,\n",
       "\n",
       "        [[-0.09803921, -0.52156866, -0.31764704],\n",
       "         [-0.19999999, -0.6313726 , -0.40392154],\n",
       "         [-0.16862744, -0.6       , -0.372549  ],\n",
       "         ...,\n",
       "         [-0.4352941 , -0.70980394, -0.52156866],\n",
       "         [-0.27843136, -0.58431375, -0.44313723],\n",
       "         [-0.372549  , -0.67058825, -0.49019605]],\n",
       "\n",
       "        [[-0.12941176, -0.54509807, -0.34117645],\n",
       "         [-0.16862744, -0.5921569 , -0.38823527],\n",
       "         [-0.12156862, -0.54509807, -0.34117645],\n",
       "         ...,\n",
       "         [-0.34117645, -0.6392157 , -0.47450978],\n",
       "         [-0.16862744, -0.52156866, -0.35686272],\n",
       "         [-0.14509803, -0.45098037, -0.3098039 ]],\n",
       "\n",
       "        [[-0.0745098 , -0.4980392 , -0.29411763],\n",
       "         [-0.14509803, -0.5686275 , -0.36470586],\n",
       "         [-0.19215685, -0.6156863 , -0.41176468],\n",
       "         ...,\n",
       "         [-0.4823529 , -0.7411765 , -0.5921569 ],\n",
       "         [-0.372549  , -0.6392157 , -0.5137255 ],\n",
       "         [-0.5372549 , -0.8039216 , -0.67058825]]],\n",
       "\n",
       "\n",
       "       [[[ 0.6784314 ,  0.62352943,  0.48235297],\n",
       "         [ 0.6627451 ,  0.62352943,  0.47450984],\n",
       "         [ 0.654902  ,  0.6156863 ,  0.4666667 ],\n",
       "         ...,\n",
       "         [ 0.75686276,  0.64705884,  0.5764706 ],\n",
       "         [ 0.77254903,  0.67058825,  0.6       ],\n",
       "         [ 0.75686276,  0.6392157 ,  0.58431375]],\n",
       "\n",
       "        [[ 0.6627451 ,  0.60784316,  0.4666667 ],\n",
       "         [ 0.6627451 ,  0.6156863 ,  0.4901961 ],\n",
       "         [ 0.67058825,  0.6156863 ,  0.4901961 ],\n",
       "         ...,\n",
       "         [ 0.78039217,  0.6784314 ,  0.60784316],\n",
       "         [ 0.75686276,  0.654902  ,  0.58431375],\n",
       "         [ 0.75686276,  0.654902  ,  0.5921569 ]],\n",
       "\n",
       "        [[ 0.6627451 ,  0.60784316,  0.48235297],\n",
       "         [ 0.67058825,  0.62352943,  0.49803925],\n",
       "         [ 0.64705884,  0.5921569 ,  0.4666667 ],\n",
       "         ...,\n",
       "         [ 0.78039217,  0.67058825,  0.6       ],\n",
       "         [ 0.7647059 ,  0.6627451 ,  0.5921569 ],\n",
       "         [ 0.78039217,  0.67058825,  0.6       ]],\n",
       "\n",
       "        ...,\n",
       "\n",
       "        [[-0.09019607, -0.3960784 , -0.5137255 ],\n",
       "         [-0.16862744, -0.4352941 , -0.5137255 ],\n",
       "         [-0.19999999, -0.4352941 , -0.5137255 ],\n",
       "         ...,\n",
       "         [ 0.9607843 ,  0.60784316,  0.36470592],\n",
       "         [ 0.9529412 ,  0.6156863 ,  0.34901965],\n",
       "         [ 0.96862745,  0.64705884,  0.39607847]],\n",
       "\n",
       "        [[-0.09803921, -0.3960784 , -0.4980392 ],\n",
       "         [-0.17647058, -0.42745095, -0.5294118 ],\n",
       "         [-0.24705881, -0.4588235 , -0.5294118 ],\n",
       "         ...,\n",
       "         [ 0.94509804,  0.58431375,  0.32549024],\n",
       "         [ 0.9764706 ,  0.5921569 ,  0.3411765 ],\n",
       "         [ 0.9529412 ,  0.6       ,  0.3411765 ]],\n",
       "\n",
       "        [[-0.14509803, -0.41176468, -0.5058824 ],\n",
       "         [-0.20784312, -0.44313723, -0.5294118 ],\n",
       "         [-0.32549018, -0.5058824 , -0.5529412 ],\n",
       "         ...,\n",
       "         [ 0.9372549 ,  0.58431375,  0.32549024],\n",
       "         [ 0.94509804,  0.5921569 ,  0.33333337],\n",
       "         [ 0.96862745,  0.6156863 ,  0.37254906]]]], dtype=float32)"
      ]
     },
     "execution_count": 5,
     "metadata": {},
     "output_type": "execute_result"
    }
   ],
   "source": [
    "data"
   ]
  },
  {
   "cell_type": "code",
   "execution_count": 6,
   "metadata": {},
   "outputs": [
    {
     "data": {
      "text/plain": [
       "array(['without_mask', 'without_mask', 'without_mask', ..., 'with_mask',\n",
       "       'with_mask', 'with_mask'], dtype='<U12')"
      ]
     },
     "execution_count": 6,
     "metadata": {},
     "output_type": "execute_result"
    }
   ],
   "source": [
    "labels"
   ]
  },
  {
   "cell_type": "markdown",
   "metadata": {},
   "source": [
    "## Converting labels to binary cat. vars."
   ]
  },
  {
   "cell_type": "code",
   "execution_count": 7,
   "metadata": {},
   "outputs": [],
   "source": [
    "lb = LabelBinarizer()\n",
    "labels = lb.fit_transform(labels)\n",
    "labels = to_categorical(labels)"
   ]
  },
  {
   "cell_type": "markdown",
   "metadata": {},
   "source": [
    "## train test split"
   ]
  },
  {
   "cell_type": "code",
   "execution_count": 8,
   "metadata": {},
   "outputs": [],
   "source": [
    "(trainX, testX, trainY, testY) = train_test_split(data, labels,test_size=0.20, stratify=labels, random_state=42)"
   ]
  },
  {
   "cell_type": "markdown",
   "metadata": {},
   "source": [
    "## image augmentation"
   ]
  },
  {
   "cell_type": "code",
   "execution_count": 9,
   "metadata": {},
   "outputs": [],
   "source": [
    "aug = ImageDataGenerator(rotation_range=20,zoom_range=0.15,width_shift_range=0.2,height_shift_range=0.2,shear_range=0.15,horizontal_flip=True,fill_mode=\"nearest\")"
   ]
  },
  {
   "cell_type": "code",
   "execution_count": 10,
   "metadata": {},
   "outputs": [
    {
     "data": {
      "text/plain": [
       "array([[0., 1.],\n",
       "       [0., 1.],\n",
       "       [0., 1.],\n",
       "       ...,\n",
       "       [1., 0.],\n",
       "       [1., 0.],\n",
       "       [1., 0.]], dtype=float32)"
      ]
     },
     "execution_count": 10,
     "metadata": {},
     "output_type": "execute_result"
    }
   ],
   "source": [
    "labels"
   ]
  },
  {
   "cell_type": "markdown",
   "metadata": {},
   "source": [
    "## imagenet model"
   ]
  },
  {
   "cell_type": "code",
   "execution_count": 11,
   "metadata": {},
   "outputs": [
    {
     "name": "stderr",
     "output_type": "stream",
     "text": [
      "C:\\Users\\manavgakhar\\anaconda3\\lib\\site-packages\\keras_applications\\mobilenet_v2.py:294: UserWarning: `input_shape` is undefined or non-square, or `rows` is not in [96, 128, 160, 192, 224]. Weights for input shape (224, 224) will be loaded as the default.\n",
      "  warnings.warn('`input_shape` is undefined or non-square, '\n"
     ]
    },
    {
     "name": "stdout",
     "output_type": "stream",
     "text": [
      "Downloading data from https://github.com/JonathanCMitchell/mobilenet_v2_keras/releases/download/v1.1/mobilenet_v2_weights_tf_dim_ordering_tf_kernels_1.0_224_no_top.h5\n",
      "9412608/9406464 [==============================] - 74s 8us/step\n"
     ]
    }
   ],
   "source": [
    "baseModel = MobileNetV2(weights=\"imagenet\", include_top=False,\n",
    "\tinput_tensor=Input(shape=(224, 224, 3)))\n",
    "\n",
    "#attaching a custom fine tuned top to the base model\n",
    "\n",
    "headModel = baseModel.output\n",
    "headModel = AveragePooling2D(pool_size=(7, 7))(headModel)\n",
    "headModel = Flatten(name=\"flatten\")(headModel)\n",
    "headModel = Dense(128, activation=\"relu\")(headModel)\n",
    "headModel = Dropout(0.5)(headModel)\n",
    "headModel = Dense(2, activation=\"softmax\")(headModel)\n",
    "\n",
    "#final model used for training\n",
    "model = Model(inputs=baseModel.input, outputs=headModel)\n",
    "\n",
    "#making base model layers non trainable\n",
    "for layer in baseModel.layers:\n",
    "    layer.trainable = False"
   ]
  },
  {
   "cell_type": "markdown",
   "metadata": {},
   "source": [
    "## compiling model"
   ]
  },
  {
   "cell_type": "code",
   "execution_count": 13,
   "metadata": {},
   "outputs": [],
   "source": [
    "opt = Adam(lr=lr_, decay=lr_ /epochs_)\n",
    "model.compile(loss=\"binary_crossentropy\", optimizer=opt,\n",
    "    metrics=[\"accuracy\"])"
   ]
  },
  {
   "cell_type": "markdown",
   "metadata": {},
   "source": [
    "## training"
   ]
  },
  {
   "cell_type": "code",
   "execution_count": 15,
   "metadata": {},
   "outputs": [
    {
     "name": "stdout",
     "output_type": "stream",
     "text": [
      "WARNING:tensorflow:sample_weight modes were coerced from\n",
      "  ...\n",
      "    to  \n",
      "  ['...']\n",
      "Train for 34 steps, validate on 276 samples\n",
      "Epoch 1/20\n",
      "34/34 [==============================] - 12s 344ms/step - loss: 0.5853 - accuracy: 0.6910 - val_loss: 0.3169 - val_accuracy: 0.9180\n",
      "Epoch 2/20\n",
      "34/34 [==============================] - 9s 279ms/step - loss: 0.3680 - accuracy: 0.8483 - val_loss: 0.1993 - val_accuracy: 0.9531\n",
      "Epoch 3/20\n",
      "34/34 [==============================] - 9s 276ms/step - loss: 0.2538 - accuracy: 0.9036 - val_loss: 0.1274 - val_accuracy: 0.9844\n",
      "Epoch 4/20\n",
      "34/34 [==============================] - 10s 282ms/step - loss: 0.2088 - accuracy: 0.9204 - val_loss: 0.1005 - val_accuracy: 0.9844\n",
      "Epoch 5/20\n",
      "34/34 [==============================] - 9s 267ms/step - loss: 0.1862 - accuracy: 0.9335 - val_loss: 0.0905 - val_accuracy: 0.9766\n",
      "Epoch 6/20\n",
      "34/34 [==============================] - 9s 263ms/step - loss: 0.1506 - accuracy: 0.9429 - val_loss: 0.0722 - val_accuracy: 0.9844\n",
      "Epoch 7/20\n",
      "34/34 [==============================] - 9s 279ms/step - loss: 0.1492 - accuracy: 0.9457 - val_loss: 0.0878 - val_accuracy: 0.9688\n",
      "Epoch 8/20\n",
      "34/34 [==============================] - 9s 260ms/step - loss: 0.1316 - accuracy: 0.9541 - val_loss: 0.0751 - val_accuracy: 0.9727\n",
      "Epoch 9/20\n",
      "34/34 [==============================] - 9s 270ms/step - loss: 0.1228 - accuracy: 0.9504 - val_loss: 0.0617 - val_accuracy: 0.9805\n",
      "Epoch 10/20\n",
      "34/34 [==============================] - 9s 279ms/step - loss: 0.1102 - accuracy: 0.9635 - val_loss: 0.0679 - val_accuracy: 0.9766\n",
      "Epoch 11/20\n",
      "34/34 [==============================] - 9s 276ms/step - loss: 0.1007 - accuracy: 0.9678 - val_loss: 0.0569 - val_accuracy: 0.9805\n",
      "Epoch 12/20\n",
      "34/34 [==============================] - 9s 272ms/step - loss: 0.0893 - accuracy: 0.9710 - val_loss: 0.0553 - val_accuracy: 0.9844\n",
      "Epoch 13/20\n",
      "34/34 [==============================] - 9s 273ms/step - loss: 0.0869 - accuracy: 0.9654 - val_loss: 0.0522 - val_accuracy: 0.9844\n",
      "Epoch 14/20\n",
      "34/34 [==============================] - 9s 277ms/step - loss: 0.0897 - accuracy: 0.9654 - val_loss: 0.0724 - val_accuracy: 0.9648\n",
      "Epoch 15/20\n",
      "34/34 [==============================] - 10s 281ms/step - loss: 0.0874 - accuracy: 0.9682 - val_loss: 0.0650 - val_accuracy: 0.9727\n",
      "Epoch 16/20\n",
      "34/34 [==============================] - 9s 275ms/step - loss: 0.0733 - accuracy: 0.9719 - val_loss: 0.0565 - val_accuracy: 0.9805\n",
      "Epoch 17/20\n",
      "34/34 [==============================] - 9s 273ms/step - loss: 0.0824 - accuracy: 0.9625 - val_loss: 0.0543 - val_accuracy: 0.9805\n",
      "Epoch 18/20\n",
      "34/34 [==============================] - 10s 282ms/step - loss: 0.0715 - accuracy: 0.9803 - val_loss: 0.0549 - val_accuracy: 0.9766\n",
      "Epoch 19/20\n",
      "34/34 [==============================] - 9s 269ms/step - loss: 0.0650 - accuracy: 0.9728 - val_loss: 0.0555 - val_accuracy: 0.9766\n",
      "Epoch 20/20\n",
      "34/34 [==============================] - 9s 267ms/step - loss: 0.0719 - accuracy: 0.9738 - val_loss: 0.0496 - val_accuracy: 0.9844\n"
     ]
    }
   ],
   "source": [
    "H = model.fit(\n",
    "    aug.flow(trainX, trainY, batch_size=batchSize),\n",
    "    steps_per_epoch=len(trainX) // batchSize,\n",
    "    validation_data=(testX, testY),\n",
    "    validation_steps=len(testX) // batchSize,\n",
    "    epochs=epochs_)"
   ]
  },
  {
   "cell_type": "code",
   "execution_count": 16,
   "metadata": {},
   "outputs": [
    {
     "name": "stdout",
     "output_type": "stream",
     "text": [
      "              precision    recall  f1-score   support\n",
      "\n",
      "   with_mask       0.97      1.00      0.99       138\n",
      "without_mask       1.00      0.97      0.99       138\n",
      "\n",
      "    accuracy                           0.99       276\n",
      "   macro avg       0.99      0.99      0.99       276\n",
      "weighted avg       0.99      0.99      0.99       276\n",
      "\n"
     ]
    }
   ],
   "source": [
    "predidx = model.predict(testX, batch_size=batchSize)\n",
    "\n",
    "# Finding args with max prob\n",
    "predidx = np.argmax(predidx, axis=1)\n",
    "\n",
    "print(classification_report(testY.argmax(axis=1), predidx,target_names=lb.classes_))"
   ]
  },
  {
   "cell_type": "code",
   "execution_count": 19,
   "metadata": {},
   "outputs": [],
   "source": [
    "#saving model lol\n",
    "model.save(\"model\", save_format=\"h5\")"
   ]
  },
  {
   "cell_type": "code",
   "execution_count": null,
   "metadata": {},
   "outputs": [],
   "source": []
  }
 ],
 "metadata": {
  "kernelspec": {
   "display_name": "Python 3",
   "language": "python",
   "name": "python3"
  },
  "language_info": {
   "codemirror_mode": {
    "name": "ipython",
    "version": 3
   },
   "file_extension": ".py",
   "mimetype": "text/x-python",
   "name": "python",
   "nbconvert_exporter": "python",
   "pygments_lexer": "ipython3",
   "version": "3.7.6"
  }
 },
 "nbformat": 4,
 "nbformat_minor": 4
}
